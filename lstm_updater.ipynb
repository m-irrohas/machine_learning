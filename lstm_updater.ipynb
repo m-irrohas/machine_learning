{
 "cells": [
  {
   "cell_type": "code",
   "execution_count": 1,
   "metadata": {},
   "outputs": [],
   "source": [
    "#!/usr/bin/env python\n",
    "# -*- coding: utf-8 -*-\n",
    "\n",
    "\n",
    "\"\"\"lstm_updater.py\n",
    "\n",
    "This module presents a class of LSTM updater.\n",
    "\"\"\"\n",
    "\n",
    "\n",
    "## modules ---------------------------------------------------------------------\n",
    "import chainer\n",
    "from chainer import optimizers\n",
    "from chainer import training\n",
    "\n",
    "\n",
    "## functions -------------------------------------------------------------------\n",
    "def main():\n",
    "    pass\n",
    "\n",
    "\n",
    "## classes ---------------------------------------------------------------------\n",
    "class LSTMUpdater(training.StandardUpdater):\n",
    "    def __init__(self, data_iter, optimizer, device=None):\n",
    "        super(LSTMUpdater,self).__init__(data_iter, optimizer, device=device)\n",
    "        self.device = device\n",
    "    \n",
    "    def update_core(self):\n",
    "        data_iter = self.get_iterator('main')\n",
    "        optimizer = self.get_optimizer('main')\n",
    "        \n",
    "        batch = data_iter.__next__()\n",
    "        x_batch, t_batch = chainer.dataset.concat_examples(batch, self.device)\n",
    "        \n",
    "        optimizer.target.reset_state()\n",
    "        optimizer.target.cleargrads()\n",
    "        loss = optimizer.target(x_batch, t_batch)\n",
    "        loss.backward()\n",
    "        loss.unchain_backward()\n",
    "        optimizer.update()\n",
    "\n",
    "\n",
    "## execution -------------------------------------------------------------------\n",
    "if __name__ == '__main__':\n",
    "    main()\n"
   ]
  }
 ],
 "metadata": {
  "kernelspec": {
   "display_name": "Python 3",
   "language": "python",
   "name": "python3"
  },
  "language_info": {
   "codemirror_mode": {
    "name": "ipython",
    "version": 3
   },
   "file_extension": ".py",
   "mimetype": "text/x-python",
   "name": "python",
   "nbconvert_exporter": "python",
   "pygments_lexer": "ipython3",
   "version": "3.6.6"
  }
 },
 "nbformat": 4,
 "nbformat_minor": 2
}
