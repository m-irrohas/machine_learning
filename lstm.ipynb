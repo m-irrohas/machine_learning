{
 "cells": [
  {
   "cell_type": "code",
   "execution_count": null,
   "metadata": {},
   "outputs": [],
   "source": [
    "#!/usr/bin/env python\n",
    "# -*- coding: utf-8 -*-\n",
    "\n",
    "\n",
    "\"\"\"lstm.py\n",
    "\n",
    "This module presents a class of one LSTM layer.\n",
    "\"\"\"\n",
    "\n",
    "\n",
    "\n",
    "## modules ---------------------------------------------------------------------\n",
    "import chainer\n",
    "from chainer import Variable\n",
    "from chainer import Chain\n",
    "import chainer.links as L\n",
    "import chainer.functions as F\n",
    "from chainer import report\n",
    "\n",
    "import lstm_nstep\n",
    "\n",
    "\n",
    "## functions -------------------------------------------------------------------\n",
    "def main():\n",
    "    pass\n",
    "\n",
    "\n",
    "## classes ---------------------------------------------------------------------\n",
    "class LSTMNet(Chain):\n",
    "    def __init__(self, n_in, n_hidden, n_out, n_lstm_layers=1, dropout=0.5, train=True):\n",
    "        super(LSTMNet, self).__init__()\n",
    "        with self.init_scope():\n",
    "            self.l1 = lstm_nstep.LSTM(n_in, n_hidden, n_layers=n_lstm_layers, dropout=dropout)\n",
    "            self.l2 = L.Linear(n_hidden, n_out, initialW=chainer.initializers.Normal(scale=0.01))\n",
    "    \n",
    "    def reset_state(self):\n",
    "        self.l1.reset_state()\n",
    " \n",
    "    def __call__(self, x):\n",
    "        # x.shape: [(seq_size, n_in)] * batch_size\n",
    "        h = self.l1(x)  # [(seq_size, n_hidden)] * batch_size\n",
    "        h = F.concat(h, axis=0)  # [seq_size * batch_size, n_hidden]\n",
    "        a = self.l2(h)  # [seq_size * batch_size, n_out]\n",
    "        #y = F.sigmoid(a)\n",
    "        y = a\n",
    "        return y\n",
    "\n",
    "\n",
    "## execution -------------------------------------------------------------------\n",
    "if __name__ == '__main__':\n",
    "    main()\n"
   ]
  }
 ],
 "metadata": {
  "kernelspec": {
   "display_name": "Python 3",
   "language": "python",
   "name": "python3"
  },
  "language_info": {
   "codemirror_mode": {
    "name": "ipython",
    "version": 3
   },
   "file_extension": ".py",
   "mimetype": "text/x-python",
   "name": "python",
   "nbconvert_exporter": "python",
   "pygments_lexer": "ipython3",
   "version": "3.6.6"
  }
 },
 "nbformat": 4,
 "nbformat_minor": 2
}
